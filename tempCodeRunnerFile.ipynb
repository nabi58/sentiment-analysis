import string

def remove_punctuation(text):
    punct = string.punctuation
    translation_table = str.maketrans('','', punct)
    data['cleaned_text']  = data['review_text'].text.translate(translation_table)
    return data['cleaned_text']

data['cleaned_text'] = data['cleaned_text'].apply(lambda x: remove_punctuation(x))